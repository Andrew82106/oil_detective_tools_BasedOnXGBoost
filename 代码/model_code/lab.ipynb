{
 "cells": [
  {
   "cell_type": "code",
   "execution_count": 1,
   "metadata": {
    "pycharm": {
     "name": "#%%\n"
    }
   },
   "outputs": [],
   "source": [
    "import pandas as pd\n",
    "from XGBoost import XGBoost\n",
    "from RandomForest import RandomForest\n",
    "from DecisionTree import DecisionTree\n",
    "from BP import BP\n",
    "# 读取数据\n",
    "data0 = pd.read_csv('../../实验数据、论文/数据/双掺样本.csv')\n",
    "data1 = pd.read_csv('../../实验数据、论文/数据/掺大豆油样本.csv')\n",
    "data2 = pd.read_csv('../../实验数据、论文/数据/掺玉米油样本.csv')\n",
    "data3 = pd.concat([data0 for i in range(10)], ignore_index=True)\n",
    "\n",
    "chosenDF = [data0]\n",
    "\n",
    "# data = pd.concat(chosenDF, ignore_index=True)"
   ]
  },
  {
   "cell_type": "markdown",
   "metadata": {
    "pycharm": {
     "name": "#%% md\n"
    }
   },
   "source": [
    "XGBoost model"
   ]
  },
  {
   "cell_type": "code",
   "execution_count": null,
   "metadata": {
    "pycharm": {
     "name": "#%%\n"
    }
   },
   "outputs": [
    {
     "name": "stdout",
     "output_type": "stream",
     "text": [
      "\n",
      "\n",
      ">>>>>>>>>>>>>>>>>>>>>\n",
      "双掺(数据增强)\n",
      "\n",
      "\n",
      "Fitting 5 folds for each of 120 candidates, totalling 600 fits\n",
      "最优超参数组合： {'learning_rate': 1, 'max_depth': 7, 'n_estimators': 50}\n",
      "均方根误差（RMSE）: 0.0002017223861604741\n",
      "R方指标: 0.9999999998395029\n",
      "默认超参数：\n",
      "均方根误差（RMSE）: 0.00033121287717898223\n",
      "R方指标: 0.9999999996288755\n",
      "\n",
      "\n",
      ">>>>>>>>>>>>>>>>>>>>>\n",
      "双掺\n",
      "\n",
      "\n",
      "Fitting 5 folds for each of 120 candidates, totalling 600 fits\n",
      "最优超参数组合： {'learning_rate': 0.1, 'max_depth': 3, 'n_estimators': 1000}\n",
      "均方根误差（RMSE）: 11.47020122306507\n",
      "R方指标: 0.12283979361618698\n",
      "默认超参数：\n",
      "均方根误差（RMSE）: 11.474130014934758\n",
      "R方指标: 0.17239113286106691\n",
      "\n",
      "\n",
      ">>>>>>>>>>>>>>>>>>>>>\n",
      "双掺+大豆油\n",
      "\n",
      "\n",
      "Fitting 5 folds for each of 120 candidates, totalling 600 fits\n",
      "最优超参数组合： {'learning_rate': 0.01, 'max_depth': 3, 'n_estimators': 5000}\n",
      "均方根误差（RMSE）: 10.38509795580911\n",
      "R方指标: 0.726219756337603\n",
      "默认超参数：\n",
      "均方根误差（RMSE）: 10.855198915973041\n",
      "R方指标: 0.7132060675193023\n",
      "\n",
      "\n",
      ">>>>>>>>>>>>>>>>>>>>>\n",
      "双掺+玉米油\n",
      "\n",
      "\n",
      "Fitting 5 folds for each of 120 candidates, totalling 600 fits\n"
     ]
    }
   ],
   "source": [
    "print(\"\\n\\n>>>>>>>>>>>>>>>>>>>>>\\n双掺(数据增强)\\n\\n\")\n",
    "chosenDF = [data3]\n",
    "data = pd.concat(chosenDF, ignore_index=True)\n",
    "XGBoost(data)\n",
    "\n",
    "\n",
    "print(\"\\n\\n>>>>>>>>>>>>>>>>>>>>>\\n双掺\\n\\n\")\n",
    "chosenDF = [data0]\n",
    "data = pd.concat(chosenDF, ignore_index=True)\n",
    "XGBoost(data)\n",
    "\n",
    "print(\"\\n\\n>>>>>>>>>>>>>>>>>>>>>\\n双掺+大豆油\\n\\n\")\n",
    "chosenDF = [data0, data1]\n",
    "data = pd.concat(chosenDF, ignore_index=True)\n",
    "XGBoost(data)\n",
    "\n",
    "print(\"\\n\\n>>>>>>>>>>>>>>>>>>>>>\\n双掺+玉米油\\n\\n\")\n",
    "chosenDF = [data0, data2]\n",
    "data = pd.concat(chosenDF, ignore_index=True)\n",
    "XGBoost(data)\n",
    "\n",
    "print(\"\\n\\n>>>>>>>>>>>>>>>>>>>>>\\n双掺+玉米油+大豆油\\n\\n\")\n",
    "chosenDF = [data0, data1, data2]\n",
    "data = pd.concat(chosenDF, ignore_index=True)\n",
    "XGBoost(data)"
   ]
  },
  {
   "cell_type": "markdown",
   "metadata": {
    "pycharm": {
     "name": "#%% md\n"
    }
   },
   "source": []
  },
  {
   "cell_type": "markdown",
   "metadata": {
    "pycharm": {
     "name": "#%% md\n"
    }
   },
   "source": [
    "Random Forest model"
   ]
  },
  {
   "cell_type": "code",
   "execution_count": null,
   "metadata": {
    "pycharm": {
     "name": "#%%\n"
    },
    "scrolled": false
   },
   "outputs": [],
   "source": [
    "print(\"\\n\\n>>>>>>>>>>>>>>>>>>>>>\\n双掺\\n\\n\")\n",
    "chosenDF = [data0]\n",
    "data = pd.concat(chosenDF, ignore_index=True)\n",
    "RandomForest(data)\n",
    "\n",
    "print(\"\\n\\n>>>>>>>>>>>>>>>>>>>>>\\n双掺+大豆油\\n\\n\")\n",
    "chosenDF = [data0, data1]\n",
    "data = pd.concat(chosenDF, ignore_index=True)\n",
    "RandomForest(data)\n",
    "\n",
    "print(\"\\n\\n>>>>>>>>>>>>>>>>>>>>>\\n双掺+玉米油\\n\\n\")\n",
    "chosenDF = [data0, data2]\n",
    "data = pd.concat(chosenDF, ignore_index=True)\n",
    "RandomForest(data)\n",
    "\n",
    "print(\"\\n\\n>>>>>>>>>>>>>>>>>>>>>\\n双掺+玉米油+大豆油\\n\\n\")\n",
    "chosenDF = [data0, data1, data2]\n",
    "data = pd.concat(chosenDF, ignore_index=True)\n",
    "RandomForest(data)\n",
    "\n",
    "print(\"\\n\\n>>>>>>>>>>>>>>>>>>>>>\\n双掺(数据增强)\\n\\n\")\n",
    "chosenDF = [data3]\n",
    "data = pd.concat(chosenDF, ignore_index=True)\n",
    "RandomForest(data)"
   ]
  },
  {
   "cell_type": "markdown",
   "metadata": {
    "pycharm": {
     "name": "#%% md\n"
    }
   },
   "source": [
    "Decision Tree model"
   ]
  },
  {
   "cell_type": "code",
   "execution_count": null,
   "metadata": {
    "pycharm": {
     "name": "#%%\n"
    }
   },
   "outputs": [],
   "source": [
    "print(\"\\n\\n>>>>>>>>>>>>>>>>>>>>>\\n双掺\\n\\n\")\n",
    "chosenDF = [data0]\n",
    "data = pd.concat(chosenDF, ignore_index=True)\n",
    "DecisionTree(data)\n",
    "\n",
    "print(\"\\n\\n>>>>>>>>>>>>>>>>>>>>>\\n双掺+大豆油\\n\\n\")\n",
    "chosenDF = [data0, data1]\n",
    "data = pd.concat(chosenDF, ignore_index=True)\n",
    "DecisionTree(data)\n",
    "\n",
    "print(\"\\n\\n>>>>>>>>>>>>>>>>>>>>>\\n双掺+玉米油\\n\\n\")\n",
    "chosenDF = [data0, data2]\n",
    "data = pd.concat(chosenDF, ignore_index=True)\n",
    "DecisionTree(data)\n",
    "\n",
    "print(\"\\n\\n>>>>>>>>>>>>>>>>>>>>>\\n双掺+玉米油+大豆油\\n\\n\")\n",
    "chosenDF = [data0, data1, data2]\n",
    "data = pd.concat(chosenDF, ignore_index=True)\n",
    "DecisionTree(data)\n",
    "\n",
    "print(\"\\n\\n>>>>>>>>>>>>>>>>>>>>>\\n双掺(数据增强)\\n\\n\")\n",
    "chosenDF = [data3]\n",
    "data = pd.concat(chosenDF, ignore_index=True)\n",
    "DecisionTree(data)"
   ]
  },
  {
   "cell_type": "markdown",
   "metadata": {
    "pycharm": {
     "name": "#%% md\n"
    }
   },
   "source": [
    "BP model"
   ]
  },
  {
   "cell_type": "code",
   "execution_count": null,
   "metadata": {
    "pycharm": {
     "name": "#%%\n"
    }
   },
   "outputs": [],
   "source": [
    "print(\"\\n\\n>>>>>>>>>>>>>>>>>>>>>\\n双掺\\n\\n\")\n",
    "chosenDF = [data0]\n",
    "data = pd.concat(chosenDF, ignore_index=True)\n",
    "BP(data)\n",
    "\n",
    "print(\"\\n\\n>>>>>>>>>>>>>>>>>>>>>\\n双掺+大豆油\\n\\n\")\n",
    "chosenDF = [data0, data1]\n",
    "data = pd.concat(chosenDF, ignore_index=True)\n",
    "BP(data)\n",
    "\n",
    "print(\"\\n\\n>>>>>>>>>>>>>>>>>>>>>\\n双掺+玉米油\\n\\n\")\n",
    "chosenDF = [data0, data2]\n",
    "data = pd.concat(chosenDF, ignore_index=True)\n",
    "BP(data)\n",
    "\n",
    "print(\"\\n\\n>>>>>>>>>>>>>>>>>>>>>\\n双掺+玉米油+大豆油\\n\\n\")\n",
    "chosenDF = [data0, data1, data2]\n",
    "data = pd.concat(chosenDF, ignore_index=True)\n",
    "BP(data)\n",
    "\n",
    "print(\"\\n\\n>>>>>>>>>>>>>>>>>>>>>\\n双掺(数据增强)\\n\\n\")\n",
    "chosenDF = [data3]\n",
    "data = pd.concat(chosenDF, ignore_index=True)\n",
    "BP(data)"
   ]
  },
  {
   "cell_type": "code",
   "execution_count": null,
   "metadata": {},
   "outputs": [],
   "source": []
  }
 ],
 "metadata": {
  "kernelspec": {
   "display_name": "base",
   "language": "python",
   "name": "base"
  },
  "language_info": {
   "codemirror_mode": {
    "name": "ipython",
    "version": 3
   },
   "file_extension": ".py",
   "mimetype": "text/x-python",
   "name": "python",
   "nbconvert_exporter": "python",
   "pygments_lexer": "ipython3",
   "version": "3.9.7"
  }
 },
 "nbformat": 4,
 "nbformat_minor": 1
}
